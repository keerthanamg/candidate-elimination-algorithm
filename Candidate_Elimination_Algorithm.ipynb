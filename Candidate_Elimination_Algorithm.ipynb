{
  "nbformat": 4,
  "nbformat_minor": 0,
  "metadata": {
    "colab": {
      "provenance": [],
      "authorship_tag": "ABX9TyPqxKukHuDAV0N18JnIIRcm",
      "include_colab_link": true
    },
    "kernelspec": {
      "name": "python3",
      "display_name": "Python 3"
    },
    "language_info": {
      "name": "python"
    }
  },
  "cells": [
    {
      "cell_type": "markdown",
      "metadata": {
        "id": "view-in-github",
        "colab_type": "text"
      },
      "source": [
        "<a href=\"https://colab.research.google.com/github/keerthanamg/candidate-elimination-algorithm/blob/main/Candidate_Elimination_Algorithm.ipynb\" target=\"_parent\"><img src=\"https://colab.research.google.com/assets/colab-badge.svg\" alt=\"Open In Colab\"/></a>"
      ]
    },
    {
      "cell_type": "code",
      "execution_count": 1,
      "metadata": {
        "id": "zSdp6AkEruFF"
      },
      "outputs": [],
      "source": [
        "import numpy as np\n",
        "import pandas as pd\n",
        "from matplotlib import pyplot as plt"
      ]
    },
    {
      "cell_type": "code",
      "source": [
        "dat = pd.read_csv(\"CEDS12.csv\",header=0)"
      ],
      "metadata": {
        "id": "UZVTvk-Hsiww"
      },
      "execution_count": null,
      "outputs": []
    },
    {
      "cell_type": "code",
      "source": [
        "data = dat.values.tolist()"
      ],
      "metadata": {
        "id": "mkabyY7PsmZq"
      },
      "execution_count": null,
      "outputs": []
    },
    {
      "cell_type": "code",
      "source": [
        "data"
      ],
      "metadata": {
        "id": "KXrEh6TOspTp"
      },
      "execution_count": null,
      "outputs": []
    },
    {
      "cell_type": "code",
      "source": [
        "S = data[0][0:-1]\n",
        "S"
      ],
      "metadata": {
        "id": "1hXbcOeussAk"
      },
      "execution_count": null,
      "outputs": []
    },
    {
      "cell_type": "code",
      "source": [
        "G = [['?' for i in range(len(S))] for j in range(len(S))]\n",
        "G"
      ],
      "metadata": {
        "id": "zqcVq3czswIX"
      },
      "execution_count": null,
      "outputs": []
    },
    {
      "cell_type": "code",
      "source": [
        "for row in data:\n",
        "    if row[-1] == \"Yes\":\n",
        "        for j in range(len(S)):\n",
        "            if row[j]!= S[j]:\n",
        "                S[j]='?'\n",
        "                G[j][j]='?'\n",
        "    elif row[-1] == \"No\":\n",
        "        for j in range(len(S)):\n",
        "            if row[j]!=S[j]:\n",
        "                G[j][j]=S[j]\n",
        "            else:\n",
        "                G[j][j]=\"?\"\n",
        "    print(\"\\nAfter insatnce\",data.index(row)+1)\n",
        "    print(\"Specific boundary is :\",S)\n",
        "    print(\"General boundary is :\",G)\n",
        "\n",
        "print(\"\\nFinal specific hypothesis:\\n\",S)\n",
        "print(\"\\nFinal general hypothesis:\\n\",G)"
      ],
      "metadata": {
        "id": "iqapmJypsynl"
      },
      "execution_count": null,
      "outputs": []
    }
  ]
}